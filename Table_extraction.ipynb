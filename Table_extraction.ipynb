{
  "nbformat": 4,
  "nbformat_minor": 0,
  "metadata": {
    "colab": {
      "provenance": [],
      "authorship_tag": "ABX9TyO0kllbANgVMTtoVC2tDwae",
      "include_colab_link": true
    },
    "kernelspec": {
      "name": "python3",
      "display_name": "Python 3"
    },
    "language_info": {
      "name": "python"
    }
  },
  "cells": [
    {
      "cell_type": "markdown",
      "metadata": {
        "id": "view-in-github",
        "colab_type": "text"
      },
      "source": [
        "<a href=\"https://colab.research.google.com/github/Shahidulla-Vantela/Table_extractor/blob/main/Table_extraction.ipynb\" target=\"_parent\"><img src=\"https://colab.research.google.com/assets/colab-badge.svg\" alt=\"Open In Colab\"/></a>"
      ]
    },
    {
      "cell_type": "code",
      "source": [
        "!pip install fitz\n",
        "!pip install tabula-py\n",
        "!pip install pymupdf"
      ],
      "metadata": {
        "colab": {
          "base_uri": "https://localhost:8080/"
        },
        "id": "9xww72Vi0oQr",
        "outputId": "20c2eb8c-bd65-4cf4-eed8-d7dce9ac68ec"
      },
      "execution_count": 1,
      "outputs": [
        {
          "output_type": "stream",
          "name": "stdout",
          "text": [
            "Requirement already satisfied: fitz in /usr/local/lib/python3.10/dist-packages (0.0.1.dev2)\n",
            "Requirement already satisfied: configobj in /usr/local/lib/python3.10/dist-packages (from fitz) (5.0.9)\n",
            "Requirement already satisfied: configparser in /usr/local/lib/python3.10/dist-packages (from fitz) (7.1.0)\n",
            "Requirement already satisfied: httplib2 in /usr/local/lib/python3.10/dist-packages (from fitz) (0.22.0)\n",
            "Requirement already satisfied: nibabel in /usr/local/lib/python3.10/dist-packages (from fitz) (5.3.2)\n",
            "Requirement already satisfied: nipype in /usr/local/lib/python3.10/dist-packages (from fitz) (1.9.1)\n",
            "Requirement already satisfied: numpy in /usr/local/lib/python3.10/dist-packages (from fitz) (1.26.4)\n",
            "Requirement already satisfied: pandas in /usr/local/lib/python3.10/dist-packages (from fitz) (2.2.2)\n",
            "Requirement already satisfied: pyxnat in /usr/local/lib/python3.10/dist-packages (from fitz) (1.6.2)\n",
            "Requirement already satisfied: scipy in /usr/local/lib/python3.10/dist-packages (from fitz) (1.13.1)\n",
            "Requirement already satisfied: pyparsing!=3.0.0,!=3.0.1,!=3.0.2,!=3.0.3,<4,>=2.4.2 in /usr/local/lib/python3.10/dist-packages (from httplib2->fitz) (3.2.0)\n",
            "Requirement already satisfied: importlib-resources>=5.12 in /usr/local/lib/python3.10/dist-packages (from nibabel->fitz) (6.4.5)\n",
            "Requirement already satisfied: packaging>=20 in /usr/local/lib/python3.10/dist-packages (from nibabel->fitz) (24.2)\n",
            "Requirement already satisfied: typing-extensions>=4.6 in /usr/local/lib/python3.10/dist-packages (from nibabel->fitz) (4.12.2)\n",
            "Requirement already satisfied: click>=6.6.0 in /usr/local/lib/python3.10/dist-packages (from nipype->fitz) (8.1.7)\n",
            "Requirement already satisfied: networkx>=2.5 in /usr/local/lib/python3.10/dist-packages (from nipype->fitz) (3.4.2)\n",
            "Requirement already satisfied: prov>=1.5.2 in /usr/local/lib/python3.10/dist-packages (from nipype->fitz) (2.0.1)\n",
            "Requirement already satisfied: pydot>=1.2.3 in /usr/local/lib/python3.10/dist-packages (from nipype->fitz) (3.0.3)\n",
            "Requirement already satisfied: python-dateutil>=2.2 in /usr/local/lib/python3.10/dist-packages (from nipype->fitz) (2.8.2)\n",
            "Requirement already satisfied: rdflib>=5.0.0 in /usr/local/lib/python3.10/dist-packages (from nipype->fitz) (6.3.2)\n",
            "Requirement already satisfied: simplejson>=3.8.0 in /usr/local/lib/python3.10/dist-packages (from nipype->fitz) (3.19.3)\n",
            "Requirement already satisfied: traits>=6.2 in /usr/local/lib/python3.10/dist-packages (from nipype->fitz) (6.4.3)\n",
            "Requirement already satisfied: filelock>=3.0.0 in /usr/local/lib/python3.10/dist-packages (from nipype->fitz) (3.16.1)\n",
            "Requirement already satisfied: acres in /usr/local/lib/python3.10/dist-packages (from nipype->fitz) (0.2.0)\n",
            "Requirement already satisfied: etelemetry>=0.3.1 in /usr/local/lib/python3.10/dist-packages (from nipype->fitz) (0.3.1)\n",
            "Requirement already satisfied: looseversion!=1.2 in /usr/local/lib/python3.10/dist-packages (from nipype->fitz) (1.3.0)\n",
            "Requirement already satisfied: puremagic in /usr/local/lib/python3.10/dist-packages (from nipype->fitz) (1.28)\n",
            "Requirement already satisfied: pytz>=2020.1 in /usr/local/lib/python3.10/dist-packages (from pandas->fitz) (2024.2)\n",
            "Requirement already satisfied: tzdata>=2022.7 in /usr/local/lib/python3.10/dist-packages (from pandas->fitz) (2024.2)\n",
            "Requirement already satisfied: lxml>=4.3 in /usr/local/lib/python3.10/dist-packages (from pyxnat->fitz) (5.3.0)\n",
            "Requirement already satisfied: requests>=2.20 in /usr/local/lib/python3.10/dist-packages (from pyxnat->fitz) (2.32.3)\n",
            "Requirement already satisfied: pathlib>=1.0 in /usr/local/lib/python3.10/dist-packages (from pyxnat->fitz) (1.0.1)\n",
            "Requirement already satisfied: ci-info>=0.2 in /usr/local/lib/python3.10/dist-packages (from etelemetry>=0.3.1->nipype->fitz) (0.3.0)\n",
            "Requirement already satisfied: six>=1.5 in /usr/local/lib/python3.10/dist-packages (from python-dateutil>=2.2->nipype->fitz) (1.16.0)\n",
            "Requirement already satisfied: isodate<0.7.0,>=0.6.0 in /usr/local/lib/python3.10/dist-packages (from rdflib>=5.0.0->nipype->fitz) (0.6.1)\n",
            "Requirement already satisfied: charset-normalizer<4,>=2 in /usr/local/lib/python3.10/dist-packages (from requests>=2.20->pyxnat->fitz) (3.4.0)\n",
            "Requirement already satisfied: idna<4,>=2.5 in /usr/local/lib/python3.10/dist-packages (from requests>=2.20->pyxnat->fitz) (3.10)\n",
            "Requirement already satisfied: urllib3<3,>=1.21.1 in /usr/local/lib/python3.10/dist-packages (from requests>=2.20->pyxnat->fitz) (2.2.3)\n",
            "Requirement already satisfied: certifi>=2017.4.17 in /usr/local/lib/python3.10/dist-packages (from requests>=2.20->pyxnat->fitz) (2024.8.30)\n",
            "Collecting tabula-py\n",
            "  Using cached tabula_py-2.10.0-py3-none-any.whl.metadata (7.6 kB)\n",
            "Requirement already satisfied: pandas>=0.25.3 in /usr/local/lib/python3.10/dist-packages (from tabula-py) (2.2.2)\n",
            "Requirement already satisfied: numpy>1.24.4 in /usr/local/lib/python3.10/dist-packages (from tabula-py) (1.26.4)\n",
            "Requirement already satisfied: distro in /usr/local/lib/python3.10/dist-packages (from tabula-py) (1.9.0)\n",
            "Requirement already satisfied: python-dateutil>=2.8.2 in /usr/local/lib/python3.10/dist-packages (from pandas>=0.25.3->tabula-py) (2.8.2)\n",
            "Requirement already satisfied: pytz>=2020.1 in /usr/local/lib/python3.10/dist-packages (from pandas>=0.25.3->tabula-py) (2024.2)\n",
            "Requirement already satisfied: tzdata>=2022.7 in /usr/local/lib/python3.10/dist-packages (from pandas>=0.25.3->tabula-py) (2024.2)\n",
            "Requirement already satisfied: six>=1.5 in /usr/local/lib/python3.10/dist-packages (from python-dateutil>=2.8.2->pandas>=0.25.3->tabula-py) (1.16.0)\n",
            "Using cached tabula_py-2.10.0-py3-none-any.whl (12.0 MB)\n",
            "Installing collected packages: tabula-py\n",
            "Successfully installed tabula-py-2.10.0\n",
            "Requirement already satisfied: pymupdf in /usr/local/lib/python3.10/dist-packages (1.25.0)\n"
          ]
        }
      ]
    },
    {
      "cell_type": "code",
      "execution_count": 2,
      "metadata": {
        "colab": {
          "base_uri": "https://localhost:8080/"
        },
        "id": "CNOJYaX10fat",
        "outputId": "7a736d40-bf13-4d31-8806-196cdfa4f25a"
      },
      "outputs": [
        {
          "output_type": "stream",
          "name": "stderr",
          "text": [
            "WARNING:tabula.backend:Failed to import jpype dependencies. Fallback to subprocess.\n",
            "WARNING:tabula.backend:No module named 'jpype'\n",
            "WARNING:tabula.backend:Got stderr: Dec 10, 2024 6:51:58 AM org.apache.pdfbox.pdmodel.font.FileSystemFontProvider loadDiskCache\n",
            "WARNING: New fonts found, font cache will be re-built\n",
            "Dec 10, 2024 6:51:58 AM org.apache.pdfbox.pdmodel.font.FileSystemFontProvider <init>\n",
            "WARNING: Building on-disk font cache, this may take a while\n",
            "Dec 10, 2024 6:51:58 AM org.apache.pdfbox.pdmodel.font.FileSystemFontProvider <init>\n",
            "WARNING: Finished building on-disk font cache, found 17 fonts\n",
            "Dec 10, 2024 6:51:58 AM org.apache.pdfbox.pdmodel.font.PDType1Font <init>\n",
            "WARNING: Using fallback font LiberationSans for base font Symbol\n",
            "Dec 10, 2024 6:51:58 AM org.apache.pdfbox.pdmodel.font.PDType1Font <init>\n",
            "WARNING: Using fallback font LiberationSans for base font ZapfDingbats\n",
            "Dec 10, 2024 6:51:58 AM org.apache.pdfbox.pdmodel.font.PDSimpleFont toUnicode\n",
            "WARNING: No Unicode mapping for .notdef (9) in font Helvetica\n",
            "\n",
            "WARNING:tabula.backend:Got stderr: Dec 10, 2024 6:52:00 AM org.apache.pdfbox.pdmodel.font.PDType1Font <init>\n",
            "WARNING: Using fallback font LiberationSans for base font Symbol\n",
            "Dec 10, 2024 6:52:00 AM org.apache.pdfbox.pdmodel.font.PDType1Font <init>\n",
            "WARNING: Using fallback font LiberationSans for base font ZapfDingbats\n",
            "Dec 10, 2024 6:52:00 AM org.apache.pdfbox.pdmodel.font.PDSimpleFont toUnicode\n",
            "WARNING: No Unicode mapping for .notdef (9) in font Helvetica\n",
            "\n",
            "WARNING:tabula.backend:Got stderr: Dec 10, 2024 6:52:06 AM org.apache.pdfbox.pdmodel.font.PDType1Font <init>\n",
            "WARNING: Using fallback font LiberationSans for base font Symbol\n",
            "Dec 10, 2024 6:52:06 AM org.apache.pdfbox.pdmodel.font.PDType1Font <init>\n",
            "WARNING: Using fallback font LiberationSans for base font ZapfDingbats\n",
            "Dec 10, 2024 6:52:06 AM org.apache.pdfbox.pdmodel.font.PDSimpleFont toUnicode\n",
            "WARNING: No Unicode mapping for .notdef (9) in font Helvetica\n",
            "\n"
          ]
        }
      ],
      "source": [
        "import pymupdf\n",
        "import fitz\n",
        "import tabula\n",
        "import pandas as pd\n",
        "import re\n",
        "\n",
        "\n",
        "def check_pages_for_tables(pdf_path):\n",
        "    # Open the PDF file\n",
        "    num_pages = 2\n",
        "    pages_with_tables = []\n",
        "    pages_without_tables = []\n",
        "    for page in range(1, num_pages + 1):\n",
        "        with fitz.open(pdf_path) as pdf:\n",
        "            tables = tabula.read_pdf(pdf_path, pages=page, multiple_tables=True)\n",
        "            if tables:\n",
        "                pages_with_tables.append(page)\n",
        "            else:\n",
        "                pages_without_tables.append(page)\n",
        "    return pages_with_tables, pages_without_tables\n",
        "\n",
        "\n",
        "def extract_tables_from_pdf(pdf_path,pages):\n",
        "    # Extract tables into a list of DataFrames and their corresponding areas\n",
        "    tables = tabula.read_pdf(pdf_path, pages=pages, multiple_tables=False, output_format='json')\n",
        "    return tables\n",
        "\n",
        "def exclude_table_text_from_pdf(pdf_path, tables):\n",
        "    # Open the PDF file\n",
        "    pdf_document = fitz.open(pdf_path)\n",
        "    non_table_text = \"\"\n",
        "    #print(pdf_document)\n",
        "\n",
        "    page = pdf_document[0]\n",
        "    #print(page)\n",
        "\n",
        "    # Create a mask to cover table areas\n",
        "    #print(tables)\n",
        "    for table in tables:\n",
        "        x1 = table['left']\n",
        "        y1 = table['top']\n",
        "        x2 = table['left']+table['width']\n",
        "        y2 = table['top']+table['height']\n",
        "\n",
        "        # Create a rectangle based on the bounding box\n",
        "        rect = fitz.Rect(x1, y1, x2, y2)\n",
        "        page.add_redact_annot(rect, fill=(0, 0, 0))\n",
        "\n",
        "    # Apply redactions to the page\n",
        "    page.apply_redactions()\n",
        "\n",
        "    # Extract the text excluding redacted areas\n",
        "    non_table_text += page.get_text() + \"\\n\"\n",
        "\n",
        "    return non_table_text\n",
        "\n",
        "\n",
        "def extract_text_from_pdf(pdf_path,pages_without_tables):\n",
        "    doc = fitz.open(pdf_path)\n",
        "    text = \"\"\n",
        "    for page_num in pages_without_tables:\n",
        "        page = doc[page_num-1]\n",
        "        text += page.get_text(\"text\")\n",
        "    return text\n",
        "\n",
        "\n",
        "def extract_table_details_gst(pdf_path,pages_with_tables):\n",
        "    doc = pymupdf.Document(pdf_path)\n",
        "    for page in pages_with_tables:\n",
        "        page_number =doc[page-1]\n",
        "        tabs = page_number.find_tables()\n",
        "        tab = tabs[0]\n",
        "        df = tab.to_pandas()\n",
        "        df.to_csv(f\"table_{page}.csv\",index=False)\n",
        "    return df\n",
        "\n",
        "# Define the PDF path\n",
        "pdf_path = \"/content/1717391099642POCb4pwoeaW29Y96.pdf\"\n",
        "\n",
        "pages_with_tables, pages_without_tables = check_pages_for_tables(pdf_path)\n",
        "\n",
        "df = extract_table_details_gst(pdf_path,pages_with_tables)\n",
        "\n",
        "# Extract tables from the PDF\n",
        "tables = extract_tables_from_pdf(pdf_path,pages_with_tables)\n",
        "#print(tables)\n",
        "\n",
        "# Extract non-table text from the PDF\n",
        "non_table_text = exclude_table_text_from_pdf(pdf_path, tables)\n",
        "text = extract_text_from_pdf(pdf_path,pages_without_tables)\n",
        "\n",
        "entire_string = non_table_text + text"
      ]
    },
    {
      "cell_type": "code",
      "source": [],
      "metadata": {
        "id": "2PLZRWOYYPUA"
      },
      "execution_count": 2,
      "outputs": []
    }
  ]
}